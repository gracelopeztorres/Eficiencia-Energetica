{
  "nbformat": 4,
  "nbformat_minor": 0,
  "metadata": {
    "colab": {
      "provenance": []
    },
    "kernelspec": {
      "name": "python3",
      "display_name": "Python 3"
    },
    "language_info": {
      "name": "python"
    }
  },
  "cells": [
    {
      "cell_type": "markdown",
      "source": [
        "# **Eficiencia energética**\n",
        "En el presente trabajo se utilizó un conjunto de datos resultado de una simulación en Ecotec, el cual es un software de análisis de diseño sustentable y ofrece una amplia gama de simulaciones y análisis de funcionamiento energético que permite mejorar el rendimiento de los edificios existentes o nuevos. Así mismo, permite integrar los análisis de energía, agua y emisiones de carbono, con herramientas que permiten visualizar y simular el comportamiento del edificio en el contexto de su entorno. Este conjunto de datos se desarrolló como insumo para el articulo \"*Accurate quantitative estimation of energy performance of residential buildings using statistical machine learning tools*\"[1], en el cual a partir de los datos obtenidos en simulación desarrollan varios modelos para estimar la eficiencia energetica utilizando herramientas de Machine Learning.\n",
        "\n",
        "En este conjunto de datos se tomaron 768 muestras, de las cuales se utilizaron 12 formas de edificios variando los siguientes parametros: \n",
        "\n",
        "\n",
        "\n",
        "*   $ x_1$ = Capacidad relativa\n",
        "*   $ x_2 $ = Área de la superficie\n",
        "*   $ x_3 $ = Área de la pared\n",
        "*   $ x_4 $ = Área del techo \n",
        "*   $ x_5 $ = Altura total\n",
        "*   $ x_6 $ = Orientación\n",
        "*   $ x_7 $ = Área de acristalamiento\n",
        "*   $ x_8 $ = Distribución del área de acristalamiento\n",
        "\n",
        "De los párametros anteriores corresponden a las salidas del conjunto de datos y como entradas, se tienen las siguientes:\n",
        "\n",
        "*   $y_1$ = Carga de calefacción\n",
        "*   $y_2$ = Carga de enfriamiento\n",
        "\n",
        "\n",
        "\n",
        "\n"
      ],
      "metadata": {
        "id": "TsiHGWcNa0cx"
      }
    },
    {
      "cell_type": "markdown",
      "source": [
        "## **Visualización y exploración de datos**\n",
        "\n",
        "A continuación se cargan las librerias que se usaran: "
      ],
      "metadata": {
        "id": "3Mpf6y23HQXM"
      }
    },
    {
      "cell_type": "code",
      "source": [
        "import pandas as pd\n",
        "import numpy as np\n",
        "import matplotlib.pyplot as plt\n",
        "import sklearn\n"
      ],
      "metadata": {
        "id": "MXXMskkt42W3"
      },
      "execution_count": null,
      "outputs": []
    },
    {
      "cell_type": "markdown",
      "source": [
        "Se carga el conjunto de datos el cual está en formato .xlsx"
      ],
      "metadata": {
        "id": "LdgLpWKaIAtF"
      }
    },
    {
      "cell_type": "code",
      "source": [
        "\n",
        "dataset = pandas.read_excel(\"/content/drive/MyDrive/Colab Notebooks/data_set.xlsx\")\n",
        "dataset"
      ],
      "metadata": {
        "colab": {
          "base_uri": "https://localhost:8080/",
          "height": 423
        },
        "id": "BQkOPnr2QR0k",
        "outputId": "eac9a18e-205c-40bf-aa7a-ccafc5410640"
      },
      "execution_count": null,
      "outputs": [
        {
          "output_type": "execute_result",
          "data": {
            "text/plain": [
              "       X1     X2     X3      X4   X5  X6   X7  X8     Y1     Y2\n",
              "0    0.98  514.5  294.0  110.25  7.0   2  0.0   0  15.55  21.33\n",
              "1    0.98  514.5  294.0  110.25  7.0   3  0.0   0  15.55  21.33\n",
              "2    0.98  514.5  294.0  110.25  7.0   4  0.0   0  15.55  21.33\n",
              "3    0.98  514.5  294.0  110.25  7.0   5  0.0   0  15.55  21.33\n",
              "4    0.90  563.5  318.5  122.50  7.0   2  0.0   0  20.84  28.28\n",
              "..    ...    ...    ...     ...  ...  ..  ...  ..    ...    ...\n",
              "763  0.64  784.0  343.0  220.50  3.5   5  0.4   5  17.88  21.40\n",
              "764  0.62  808.5  367.5  220.50  3.5   2  0.4   5  16.54  16.88\n",
              "765  0.62  808.5  367.5  220.50  3.5   3  0.4   5  16.44  17.11\n",
              "766  0.62  808.5  367.5  220.50  3.5   4  0.4   5  16.48  16.61\n",
              "767  0.62  808.5  367.5  220.50  3.5   5  0.4   5  16.64  16.03\n",
              "\n",
              "[768 rows x 10 columns]"
            ],
            "text/html": [
              "\n",
              "  <div id=\"df-4bf463c4-2cbd-4f52-aee3-bbad2877b88a\">\n",
              "    <div class=\"colab-df-container\">\n",
              "      <div>\n",
              "<style scoped>\n",
              "    .dataframe tbody tr th:only-of-type {\n",
              "        vertical-align: middle;\n",
              "    }\n",
              "\n",
              "    .dataframe tbody tr th {\n",
              "        vertical-align: top;\n",
              "    }\n",
              "\n",
              "    .dataframe thead th {\n",
              "        text-align: right;\n",
              "    }\n",
              "</style>\n",
              "<table border=\"1\" class=\"dataframe\">\n",
              "  <thead>\n",
              "    <tr style=\"text-align: right;\">\n",
              "      <th></th>\n",
              "      <th>X1</th>\n",
              "      <th>X2</th>\n",
              "      <th>X3</th>\n",
              "      <th>X4</th>\n",
              "      <th>X5</th>\n",
              "      <th>X6</th>\n",
              "      <th>X7</th>\n",
              "      <th>X8</th>\n",
              "      <th>Y1</th>\n",
              "      <th>Y2</th>\n",
              "    </tr>\n",
              "  </thead>\n",
              "  <tbody>\n",
              "    <tr>\n",
              "      <th>0</th>\n",
              "      <td>0.98</td>\n",
              "      <td>514.5</td>\n",
              "      <td>294.0</td>\n",
              "      <td>110.25</td>\n",
              "      <td>7.0</td>\n",
              "      <td>2</td>\n",
              "      <td>0.0</td>\n",
              "      <td>0</td>\n",
              "      <td>15.55</td>\n",
              "      <td>21.33</td>\n",
              "    </tr>\n",
              "    <tr>\n",
              "      <th>1</th>\n",
              "      <td>0.98</td>\n",
              "      <td>514.5</td>\n",
              "      <td>294.0</td>\n",
              "      <td>110.25</td>\n",
              "      <td>7.0</td>\n",
              "      <td>3</td>\n",
              "      <td>0.0</td>\n",
              "      <td>0</td>\n",
              "      <td>15.55</td>\n",
              "      <td>21.33</td>\n",
              "    </tr>\n",
              "    <tr>\n",
              "      <th>2</th>\n",
              "      <td>0.98</td>\n",
              "      <td>514.5</td>\n",
              "      <td>294.0</td>\n",
              "      <td>110.25</td>\n",
              "      <td>7.0</td>\n",
              "      <td>4</td>\n",
              "      <td>0.0</td>\n",
              "      <td>0</td>\n",
              "      <td>15.55</td>\n",
              "      <td>21.33</td>\n",
              "    </tr>\n",
              "    <tr>\n",
              "      <th>3</th>\n",
              "      <td>0.98</td>\n",
              "      <td>514.5</td>\n",
              "      <td>294.0</td>\n",
              "      <td>110.25</td>\n",
              "      <td>7.0</td>\n",
              "      <td>5</td>\n",
              "      <td>0.0</td>\n",
              "      <td>0</td>\n",
              "      <td>15.55</td>\n",
              "      <td>21.33</td>\n",
              "    </tr>\n",
              "    <tr>\n",
              "      <th>4</th>\n",
              "      <td>0.90</td>\n",
              "      <td>563.5</td>\n",
              "      <td>318.5</td>\n",
              "      <td>122.50</td>\n",
              "      <td>7.0</td>\n",
              "      <td>2</td>\n",
              "      <td>0.0</td>\n",
              "      <td>0</td>\n",
              "      <td>20.84</td>\n",
              "      <td>28.28</td>\n",
              "    </tr>\n",
              "    <tr>\n",
              "      <th>...</th>\n",
              "      <td>...</td>\n",
              "      <td>...</td>\n",
              "      <td>...</td>\n",
              "      <td>...</td>\n",
              "      <td>...</td>\n",
              "      <td>...</td>\n",
              "      <td>...</td>\n",
              "      <td>...</td>\n",
              "      <td>...</td>\n",
              "      <td>...</td>\n",
              "    </tr>\n",
              "    <tr>\n",
              "      <th>763</th>\n",
              "      <td>0.64</td>\n",
              "      <td>784.0</td>\n",
              "      <td>343.0</td>\n",
              "      <td>220.50</td>\n",
              "      <td>3.5</td>\n",
              "      <td>5</td>\n",
              "      <td>0.4</td>\n",
              "      <td>5</td>\n",
              "      <td>17.88</td>\n",
              "      <td>21.40</td>\n",
              "    </tr>\n",
              "    <tr>\n",
              "      <th>764</th>\n",
              "      <td>0.62</td>\n",
              "      <td>808.5</td>\n",
              "      <td>367.5</td>\n",
              "      <td>220.50</td>\n",
              "      <td>3.5</td>\n",
              "      <td>2</td>\n",
              "      <td>0.4</td>\n",
              "      <td>5</td>\n",
              "      <td>16.54</td>\n",
              "      <td>16.88</td>\n",
              "    </tr>\n",
              "    <tr>\n",
              "      <th>765</th>\n",
              "      <td>0.62</td>\n",
              "      <td>808.5</td>\n",
              "      <td>367.5</td>\n",
              "      <td>220.50</td>\n",
              "      <td>3.5</td>\n",
              "      <td>3</td>\n",
              "      <td>0.4</td>\n",
              "      <td>5</td>\n",
              "      <td>16.44</td>\n",
              "      <td>17.11</td>\n",
              "    </tr>\n",
              "    <tr>\n",
              "      <th>766</th>\n",
              "      <td>0.62</td>\n",
              "      <td>808.5</td>\n",
              "      <td>367.5</td>\n",
              "      <td>220.50</td>\n",
              "      <td>3.5</td>\n",
              "      <td>4</td>\n",
              "      <td>0.4</td>\n",
              "      <td>5</td>\n",
              "      <td>16.48</td>\n",
              "      <td>16.61</td>\n",
              "    </tr>\n",
              "    <tr>\n",
              "      <th>767</th>\n",
              "      <td>0.62</td>\n",
              "      <td>808.5</td>\n",
              "      <td>367.5</td>\n",
              "      <td>220.50</td>\n",
              "      <td>3.5</td>\n",
              "      <td>5</td>\n",
              "      <td>0.4</td>\n",
              "      <td>5</td>\n",
              "      <td>16.64</td>\n",
              "      <td>16.03</td>\n",
              "    </tr>\n",
              "  </tbody>\n",
              "</table>\n",
              "<p>768 rows × 10 columns</p>\n",
              "</div>\n",
              "      <button class=\"colab-df-convert\" onclick=\"convertToInteractive('df-4bf463c4-2cbd-4f52-aee3-bbad2877b88a')\"\n",
              "              title=\"Convert this dataframe to an interactive table.\"\n",
              "              style=\"display:none;\">\n",
              "        \n",
              "  <svg xmlns=\"http://www.w3.org/2000/svg\" height=\"24px\"viewBox=\"0 0 24 24\"\n",
              "       width=\"24px\">\n",
              "    <path d=\"M0 0h24v24H0V0z\" fill=\"none\"/>\n",
              "    <path d=\"M18.56 5.44l.94 2.06.94-2.06 2.06-.94-2.06-.94-.94-2.06-.94 2.06-2.06.94zm-11 1L8.5 8.5l.94-2.06 2.06-.94-2.06-.94L8.5 2.5l-.94 2.06-2.06.94zm10 10l.94 2.06.94-2.06 2.06-.94-2.06-.94-.94-2.06-.94 2.06-2.06.94z\"/><path d=\"M17.41 7.96l-1.37-1.37c-.4-.4-.92-.59-1.43-.59-.52 0-1.04.2-1.43.59L10.3 9.45l-7.72 7.72c-.78.78-.78 2.05 0 2.83L4 21.41c.39.39.9.59 1.41.59.51 0 1.02-.2 1.41-.59l7.78-7.78 2.81-2.81c.8-.78.8-2.07 0-2.86zM5.41 20L4 18.59l7.72-7.72 1.47 1.35L5.41 20z\"/>\n",
              "  </svg>\n",
              "      </button>\n",
              "      \n",
              "  <style>\n",
              "    .colab-df-container {\n",
              "      display:flex;\n",
              "      flex-wrap:wrap;\n",
              "      gap: 12px;\n",
              "    }\n",
              "\n",
              "    .colab-df-convert {\n",
              "      background-color: #E8F0FE;\n",
              "      border: none;\n",
              "      border-radius: 50%;\n",
              "      cursor: pointer;\n",
              "      display: none;\n",
              "      fill: #1967D2;\n",
              "      height: 32px;\n",
              "      padding: 0 0 0 0;\n",
              "      width: 32px;\n",
              "    }\n",
              "\n",
              "    .colab-df-convert:hover {\n",
              "      background-color: #E2EBFA;\n",
              "      box-shadow: 0px 1px 2px rgba(60, 64, 67, 0.3), 0px 1px 3px 1px rgba(60, 64, 67, 0.15);\n",
              "      fill: #174EA6;\n",
              "    }\n",
              "\n",
              "    [theme=dark] .colab-df-convert {\n",
              "      background-color: #3B4455;\n",
              "      fill: #D2E3FC;\n",
              "    }\n",
              "\n",
              "    [theme=dark] .colab-df-convert:hover {\n",
              "      background-color: #434B5C;\n",
              "      box-shadow: 0px 1px 3px 1px rgba(0, 0, 0, 0.15);\n",
              "      filter: drop-shadow(0px 1px 2px rgba(0, 0, 0, 0.3));\n",
              "      fill: #FFFFFF;\n",
              "    }\n",
              "  </style>\n",
              "\n",
              "      <script>\n",
              "        const buttonEl =\n",
              "          document.querySelector('#df-4bf463c4-2cbd-4f52-aee3-bbad2877b88a button.colab-df-convert');\n",
              "        buttonEl.style.display =\n",
              "          google.colab.kernel.accessAllowed ? 'block' : 'none';\n",
              "\n",
              "        async function convertToInteractive(key) {\n",
              "          const element = document.querySelector('#df-4bf463c4-2cbd-4f52-aee3-bbad2877b88a');\n",
              "          const dataTable =\n",
              "            await google.colab.kernel.invokeFunction('convertToInteractive',\n",
              "                                                     [key], {});\n",
              "          if (!dataTable) return;\n",
              "\n",
              "          const docLinkHtml = 'Like what you see? Visit the ' +\n",
              "            '<a target=\"_blank\" href=https://colab.research.google.com/notebooks/data_table.ipynb>data table notebook</a>'\n",
              "            + ' to learn more about interactive tables.';\n",
              "          element.innerHTML = '';\n",
              "          dataTable['output_type'] = 'display_data';\n",
              "          await google.colab.output.renderOutput(dataTable, element);\n",
              "          const docLink = document.createElement('div');\n",
              "          docLink.innerHTML = docLinkHtml;\n",
              "          element.appendChild(docLink);\n",
              "        }\n",
              "      </script>\n",
              "    </div>\n",
              "  </div>\n",
              "  "
            ]
          },
          "metadata": {},
          "execution_count": 146
        }
      ]
    },
    {
      "cell_type": "markdown",
      "source": [
        "Se obtiene información de los valores del conjunto de datos."
      ],
      "metadata": {
        "id": "dCw7yQTPILWs"
      }
    },
    {
      "cell_type": "code",
      "source": [
        "dataset.info()\n"
      ],
      "metadata": {
        "colab": {
          "base_uri": "https://localhost:8080/"
        },
        "id": "OYhaaEeiUXN4",
        "outputId": "4321bbd8-aa0c-4cbf-b9e6-78672e8c5dd1"
      },
      "execution_count": null,
      "outputs": [
        {
          "output_type": "stream",
          "name": "stdout",
          "text": [
            "<class 'pandas.core.frame.DataFrame'>\n",
            "RangeIndex: 768 entries, 0 to 767\n",
            "Data columns (total 10 columns):\n",
            " #   Column  Non-Null Count  Dtype  \n",
            "---  ------  --------------  -----  \n",
            " 0   X1      768 non-null    float64\n",
            " 1   X2      768 non-null    float64\n",
            " 2   X3      768 non-null    float64\n",
            " 3   X4      768 non-null    float64\n",
            " 4   X5      768 non-null    float64\n",
            " 5   X6      768 non-null    int64  \n",
            " 6   X7      768 non-null    float64\n",
            " 7   X8      768 non-null    int64  \n",
            " 8   Y1      768 non-null    float64\n",
            " 9   Y2      768 non-null    float64\n",
            "dtypes: float64(8), int64(2)\n",
            "memory usage: 60.1 KB\n"
          ]
        }
      ]
    },
    {
      "cell_type": "markdown",
      "source": [
        "Se obtiene la información estadistica del conjunto de datos."
      ],
      "metadata": {
        "id": "5p40wiwoKOgd"
      }
    },
    {
      "cell_type": "code",
      "source": [
        "dataset.describe()"
      ],
      "metadata": {
        "colab": {
          "base_uri": "https://localhost:8080/",
          "height": 300
        },
        "id": "deqIKITUxsoZ",
        "outputId": "c76bda3f-0e3a-42be-c497-463bd2951d0b"
      },
      "execution_count": null,
      "outputs": [
        {
          "output_type": "execute_result",
          "data": {
            "text/plain": [
              "               X1          X2          X3          X4         X5          X6  \\\n",
              "count  768.000000  768.000000  768.000000  768.000000  768.00000  768.000000   \n",
              "mean     0.764167  671.708333  318.500000  176.604167    5.25000    3.500000   \n",
              "std      0.105777   88.086116   43.626481   45.165950    1.75114    1.118763   \n",
              "min      0.620000  514.500000  245.000000  110.250000    3.50000    2.000000   \n",
              "25%      0.682500  606.375000  294.000000  140.875000    3.50000    2.750000   \n",
              "50%      0.750000  673.750000  318.500000  183.750000    5.25000    3.500000   \n",
              "75%      0.830000  741.125000  343.000000  220.500000    7.00000    4.250000   \n",
              "max      0.980000  808.500000  416.500000  220.500000    7.00000    5.000000   \n",
              "\n",
              "               X7         X8          Y1          Y2  \n",
              "count  768.000000  768.00000  768.000000  768.000000  \n",
              "mean     0.234375    2.81250   22.307195   24.587760  \n",
              "std      0.133221    1.55096   10.090204    9.513306  \n",
              "min      0.000000    0.00000    6.010000   10.900000  \n",
              "25%      0.100000    1.75000   12.992500   15.620000  \n",
              "50%      0.250000    3.00000   18.950000   22.080000  \n",
              "75%      0.400000    4.00000   31.667500   33.132500  \n",
              "max      0.400000    5.00000   43.100000   48.030000  "
            ],
            "text/html": [
              "\n",
              "  <div id=\"df-c0544420-5321-47d5-9468-ff22e2b605e2\">\n",
              "    <div class=\"colab-df-container\">\n",
              "      <div>\n",
              "<style scoped>\n",
              "    .dataframe tbody tr th:only-of-type {\n",
              "        vertical-align: middle;\n",
              "    }\n",
              "\n",
              "    .dataframe tbody tr th {\n",
              "        vertical-align: top;\n",
              "    }\n",
              "\n",
              "    .dataframe thead th {\n",
              "        text-align: right;\n",
              "    }\n",
              "</style>\n",
              "<table border=\"1\" class=\"dataframe\">\n",
              "  <thead>\n",
              "    <tr style=\"text-align: right;\">\n",
              "      <th></th>\n",
              "      <th>X1</th>\n",
              "      <th>X2</th>\n",
              "      <th>X3</th>\n",
              "      <th>X4</th>\n",
              "      <th>X5</th>\n",
              "      <th>X6</th>\n",
              "      <th>X7</th>\n",
              "      <th>X8</th>\n",
              "      <th>Y1</th>\n",
              "      <th>Y2</th>\n",
              "    </tr>\n",
              "  </thead>\n",
              "  <tbody>\n",
              "    <tr>\n",
              "      <th>count</th>\n",
              "      <td>768.000000</td>\n",
              "      <td>768.000000</td>\n",
              "      <td>768.000000</td>\n",
              "      <td>768.000000</td>\n",
              "      <td>768.00000</td>\n",
              "      <td>768.000000</td>\n",
              "      <td>768.000000</td>\n",
              "      <td>768.00000</td>\n",
              "      <td>768.000000</td>\n",
              "      <td>768.000000</td>\n",
              "    </tr>\n",
              "    <tr>\n",
              "      <th>mean</th>\n",
              "      <td>0.764167</td>\n",
              "      <td>671.708333</td>\n",
              "      <td>318.500000</td>\n",
              "      <td>176.604167</td>\n",
              "      <td>5.25000</td>\n",
              "      <td>3.500000</td>\n",
              "      <td>0.234375</td>\n",
              "      <td>2.81250</td>\n",
              "      <td>22.307195</td>\n",
              "      <td>24.587760</td>\n",
              "    </tr>\n",
              "    <tr>\n",
              "      <th>std</th>\n",
              "      <td>0.105777</td>\n",
              "      <td>88.086116</td>\n",
              "      <td>43.626481</td>\n",
              "      <td>45.165950</td>\n",
              "      <td>1.75114</td>\n",
              "      <td>1.118763</td>\n",
              "      <td>0.133221</td>\n",
              "      <td>1.55096</td>\n",
              "      <td>10.090204</td>\n",
              "      <td>9.513306</td>\n",
              "    </tr>\n",
              "    <tr>\n",
              "      <th>min</th>\n",
              "      <td>0.620000</td>\n",
              "      <td>514.500000</td>\n",
              "      <td>245.000000</td>\n",
              "      <td>110.250000</td>\n",
              "      <td>3.50000</td>\n",
              "      <td>2.000000</td>\n",
              "      <td>0.000000</td>\n",
              "      <td>0.00000</td>\n",
              "      <td>6.010000</td>\n",
              "      <td>10.900000</td>\n",
              "    </tr>\n",
              "    <tr>\n",
              "      <th>25%</th>\n",
              "      <td>0.682500</td>\n",
              "      <td>606.375000</td>\n",
              "      <td>294.000000</td>\n",
              "      <td>140.875000</td>\n",
              "      <td>3.50000</td>\n",
              "      <td>2.750000</td>\n",
              "      <td>0.100000</td>\n",
              "      <td>1.75000</td>\n",
              "      <td>12.992500</td>\n",
              "      <td>15.620000</td>\n",
              "    </tr>\n",
              "    <tr>\n",
              "      <th>50%</th>\n",
              "      <td>0.750000</td>\n",
              "      <td>673.750000</td>\n",
              "      <td>318.500000</td>\n",
              "      <td>183.750000</td>\n",
              "      <td>5.25000</td>\n",
              "      <td>3.500000</td>\n",
              "      <td>0.250000</td>\n",
              "      <td>3.00000</td>\n",
              "      <td>18.950000</td>\n",
              "      <td>22.080000</td>\n",
              "    </tr>\n",
              "    <tr>\n",
              "      <th>75%</th>\n",
              "      <td>0.830000</td>\n",
              "      <td>741.125000</td>\n",
              "      <td>343.000000</td>\n",
              "      <td>220.500000</td>\n",
              "      <td>7.00000</td>\n",
              "      <td>4.250000</td>\n",
              "      <td>0.400000</td>\n",
              "      <td>4.00000</td>\n",
              "      <td>31.667500</td>\n",
              "      <td>33.132500</td>\n",
              "    </tr>\n",
              "    <tr>\n",
              "      <th>max</th>\n",
              "      <td>0.980000</td>\n",
              "      <td>808.500000</td>\n",
              "      <td>416.500000</td>\n",
              "      <td>220.500000</td>\n",
              "      <td>7.00000</td>\n",
              "      <td>5.000000</td>\n",
              "      <td>0.400000</td>\n",
              "      <td>5.00000</td>\n",
              "      <td>43.100000</td>\n",
              "      <td>48.030000</td>\n",
              "    </tr>\n",
              "  </tbody>\n",
              "</table>\n",
              "</div>\n",
              "      <button class=\"colab-df-convert\" onclick=\"convertToInteractive('df-c0544420-5321-47d5-9468-ff22e2b605e2')\"\n",
              "              title=\"Convert this dataframe to an interactive table.\"\n",
              "              style=\"display:none;\">\n",
              "        \n",
              "  <svg xmlns=\"http://www.w3.org/2000/svg\" height=\"24px\"viewBox=\"0 0 24 24\"\n",
              "       width=\"24px\">\n",
              "    <path d=\"M0 0h24v24H0V0z\" fill=\"none\"/>\n",
              "    <path d=\"M18.56 5.44l.94 2.06.94-2.06 2.06-.94-2.06-.94-.94-2.06-.94 2.06-2.06.94zm-11 1L8.5 8.5l.94-2.06 2.06-.94-2.06-.94L8.5 2.5l-.94 2.06-2.06.94zm10 10l.94 2.06.94-2.06 2.06-.94-2.06-.94-.94-2.06-.94 2.06-2.06.94z\"/><path d=\"M17.41 7.96l-1.37-1.37c-.4-.4-.92-.59-1.43-.59-.52 0-1.04.2-1.43.59L10.3 9.45l-7.72 7.72c-.78.78-.78 2.05 0 2.83L4 21.41c.39.39.9.59 1.41.59.51 0 1.02-.2 1.41-.59l7.78-7.78 2.81-2.81c.8-.78.8-2.07 0-2.86zM5.41 20L4 18.59l7.72-7.72 1.47 1.35L5.41 20z\"/>\n",
              "  </svg>\n",
              "      </button>\n",
              "      \n",
              "  <style>\n",
              "    .colab-df-container {\n",
              "      display:flex;\n",
              "      flex-wrap:wrap;\n",
              "      gap: 12px;\n",
              "    }\n",
              "\n",
              "    .colab-df-convert {\n",
              "      background-color: #E8F0FE;\n",
              "      border: none;\n",
              "      border-radius: 50%;\n",
              "      cursor: pointer;\n",
              "      display: none;\n",
              "      fill: #1967D2;\n",
              "      height: 32px;\n",
              "      padding: 0 0 0 0;\n",
              "      width: 32px;\n",
              "    }\n",
              "\n",
              "    .colab-df-convert:hover {\n",
              "      background-color: #E2EBFA;\n",
              "      box-shadow: 0px 1px 2px rgba(60, 64, 67, 0.3), 0px 1px 3px 1px rgba(60, 64, 67, 0.15);\n",
              "      fill: #174EA6;\n",
              "    }\n",
              "\n",
              "    [theme=dark] .colab-df-convert {\n",
              "      background-color: #3B4455;\n",
              "      fill: #D2E3FC;\n",
              "    }\n",
              "\n",
              "    [theme=dark] .colab-df-convert:hover {\n",
              "      background-color: #434B5C;\n",
              "      box-shadow: 0px 1px 3px 1px rgba(0, 0, 0, 0.15);\n",
              "      filter: drop-shadow(0px 1px 2px rgba(0, 0, 0, 0.3));\n",
              "      fill: #FFFFFF;\n",
              "    }\n",
              "  </style>\n",
              "\n",
              "      <script>\n",
              "        const buttonEl =\n",
              "          document.querySelector('#df-c0544420-5321-47d5-9468-ff22e2b605e2 button.colab-df-convert');\n",
              "        buttonEl.style.display =\n",
              "          google.colab.kernel.accessAllowed ? 'block' : 'none';\n",
              "\n",
              "        async function convertToInteractive(key) {\n",
              "          const element = document.querySelector('#df-c0544420-5321-47d5-9468-ff22e2b605e2');\n",
              "          const dataTable =\n",
              "            await google.colab.kernel.invokeFunction('convertToInteractive',\n",
              "                                                     [key], {});\n",
              "          if (!dataTable) return;\n",
              "\n",
              "          const docLinkHtml = 'Like what you see? Visit the ' +\n",
              "            '<a target=\"_blank\" href=https://colab.research.google.com/notebooks/data_table.ipynb>data table notebook</a>'\n",
              "            + ' to learn more about interactive tables.';\n",
              "          element.innerHTML = '';\n",
              "          dataTable['output_type'] = 'display_data';\n",
              "          await google.colab.output.renderOutput(dataTable, element);\n",
              "          const docLink = document.createElement('div');\n",
              "          docLink.innerHTML = docLinkHtml;\n",
              "          element.appendChild(docLink);\n",
              "        }\n",
              "      </script>\n",
              "    </div>\n",
              "  </div>\n",
              "  "
            ]
          },
          "metadata": {},
          "execution_count": 148
        }
      ]
    },
    {
      "cell_type": "markdown",
      "source": [
        "### **Visualización conjunto de datos**\n",
        "\n",
        "A partir de histogramas se visualiza la distribución de los datos para cada variable del conjunto de datos.\n"
      ],
      "metadata": {
        "id": "1sbpo-hnRd5x"
      }
    },
    {
      "cell_type": "code",
      "source": [
        "x_1 = dataset[['X1']].plot(kind = 'hist') \n",
        "x_2 = dataset[['X2']].plot(kind = 'hist') \n",
        "x_3 = dataset[['X3']].plot(kind = 'hist') \n",
        "x_4 = dataset[['X4']].plot(kind = 'hist')\n",
        "x_5 = dataset[['X5']].plot(kind = 'hist') \n",
        "x_6 = dataset[['X6']].plot(kind = 'hist') \n",
        "x_7 = dataset[['X7']].plot(kind = 'hist') \n",
        "x_8 = dataset[['X8']].plot(kind = 'hist')\n"
      ],
      "metadata": {
        "colab": {
          "base_uri": "https://localhost:8080/",
          "height": 1000
        },
        "id": "tn3sK_lHsZ4a",
        "outputId": "ff754073-d285-430f-943b-76d7e36139d5"
      },
      "execution_count": null,
      "outputs": [
        {
          "output_type": "display_data",
          "data": {
            "text/plain": [
              "<Figure size 432x288 with 1 Axes>"
            ],
            "image/png": "[encoded data removed]"
          },
          "metadata": {
            "needs_background": "light"
          }
        },
        {
          "output_type": "display_data",
          "data": {
            "text/plain": [
              "<Figure size 432x288 with 1 Axes>"
            ],
            "image/png": "[encoded data removed]"
          },
          "metadata": {
            "needs_background": "light"
          }
        },
        {
          "output_type": "display_data",
          "data": {
            "text/plain": [
              "<Figure size 432x288 with 1 Axes>"
            ],
            "image/png": "[encoded data removed]"
          },
          "metadata": {
            "needs_background": "light"
          }
        },
        {
          "output_type": "display_data",
          "data": {
            "text/plain": [
              "<Figure size 432x288 with 1 Axes>"
            ],
            "image/png": "[encoded data removed]"
          },
          "metadata": {
            "needs_background": "light"
          }
        },
        {
          "output_type": "display_data",
          "data": {
            "text/plain": [
              "<Figure size 432x288 with 1 Axes>"
            ],
            "image/png": "[encoded data removed]"
          },
          "metadata": {
            "needs_background": "light"
          }
        },
        {
          "output_type": "display_data",
          "data": {
            "text/plain": [
              "<Figure size 432x288 with 1 Axes>"
            ],
            "image/png": "[encoded data removed]"
          },
          "metadata": {
            "needs_background": "light"
          }
        },
        {
          "output_type": "display_data",
          "data": {
            "text/plain": [
              "<Figure size 432x288 with 1 Axes>"
            ],
            "image/png": "[encoded data removed]"
          },
          "metadata": {
            "needs_background": "light"
          }
        },
        {
          "output_type": "display_data",
          "data": {
            "text/plain": [
              "<Figure size 432x288 with 1 Axes>"
            ],
            "image/png": "[encoded data removed]"
          },
          "metadata": {
            "needs_background": "light"
          }
        }
      ]
    },
    {
      "cell_type": "code",
      "source": [
        "y_1 = dataset[['Y1']].plot(kind = 'hist') \n",
        "y_2 = dataset[['Y2']].plot(kind = 'hist')"
      ],
      "metadata": {
        "colab": {
          "base_uri": "https://localhost:8080/",
          "height": 513
        },
        "id": "mRuDS39eSD-b",
        "outputId": "9c8476f8-1148-4dc5-b2f8-ef6fd01e07ba"
      },
      "execution_count": null,
      "outputs": [
        {
          "output_type": "display_data",
          "data": {
            "text/plain": [
              "<Figure size 432x288 with 1 Axes>"
            ],
            "image/png": "[encoded data removed]"
          },
          "metadata": {
            "needs_background": "light"
          }
        },
        {
          "output_type": "display_data",
          "data": {
            "text/plain": [
              "<Figure size 432x288 with 1 Axes>"
            ],
            "image/png": "[encoded data removed]"
          },
          "metadata": {
            "needs_background": "light"
          }
        }
      ]
    },
    {
      "cell_type": "markdown",
      "source": [
        "A partir de las gráficas obtenidas anteriormente, se puede estimar la densidad de probabilidad de los datos y en algunos casos estimar el número de posibles valores para cada variable. Así mismo, se puede observar que niguna de las variables corresponde a una distibución normal."
      ],
      "metadata": {
        "id": "gNtW6fmNRUg0"
      }
    },
    {
      "cell_type": "markdown",
      "source": [
        "## **Separación de los datos de entrenamiento y prueba**"
      ],
      "metadata": {
        "id": "t7a6KxkhSVFi"
      }
    },
    {
      "cell_type": "markdown",
      "source": [
        "Para separar los datos de entrenamiento y prueba,primero separamos el conjunto de datos en tres: El conjunto $ X $ en donde estarán los datos únicamente las variables de entrada ( $X_i $ ) y los dos conjuntos corresponden para cada variable de salida ( $Y_1$ y $Y_2$)."
      ],
      "metadata": {
        "id": "8HGinqAAGj8E"
      }
    },
    {
      "cell_type": "code",
      "source": [
        "X=dataset.drop(['Y1','Y2'],axis=1)\n",
        "y1=dataset['Y1']\n",
        "y2=dataset['Y2']\n"
      ],
      "metadata": {
        "id": "zM2jh_rvWeCf"
      },
      "execution_count": null,
      "outputs": []
    },
    {
      "cell_type": "markdown",
      "source": [
        "Ahora con la libreria Sklearn separamos las variables que serán de entrenamiento y las de prueba para $ X $, $y1$ y $y2$. Se eligió el conjunto de prueba del 25% y el conjunto de entrenamiento del 75%."
      ],
      "metadata": {
        "id": "sqWyuW0YHc_C"
      }
    },
    {
      "cell_type": "code",
      "source": [
        "from sklearn.model_selection import train_test_split\n",
        "\n",
        "X_train, X_test, y1_train, y1_test = train_test_split(X, y1, test_size=0.25)\n",
        "X_train, X_test, y2_train, y2_test = train_test_split(X, y2, test_size=0.25)\n"
      ],
      "metadata": {
        "id": "vMEkmoTnahNK"
      },
      "execution_count": null,
      "outputs": []
    },
    {
      "cell_type": "code",
      "source": [
        "#from sklearn.preprocessing import StandardScaler\n",
        "#escalar = StandardScaler()\n",
        "\n",
        "#X_train = escalar.fit_transform(X_train)\n",
        "#X_test = escalar.transform(X_test)"
      ],
      "metadata": {
        "id": "NYma9uBpT6ao"
      },
      "execution_count": null,
      "outputs": []
    },
    {
      "cell_type": "markdown",
      "source": [
        "## **Regresión**\n",
        "\n",
        "Se cargan los modelos a utilizar y métricas"
      ],
      "metadata": {
        "id": "481zsbGqmWwZ"
      }
    },
    {
      "cell_type": "code",
      "source": [
        "from sklearn.neighbors import KNeighborsRegressor \n",
        "from sklearn import linear_model\n",
        "\n",
        "\n",
        "from sklearn.metrics import mean_squared_error\n",
        "from sklearn.metrics import accuracy_score\n",
        "from sklearn.metrics import r2_score"
      ],
      "metadata": {
        "id": "e3Pd228s2uPe"
      },
      "execution_count": null,
      "outputs": []
    },
    {
      "cell_type": "markdown",
      "source": [
        "## **Predicciones para la carga de calefacción $y_1$**\n",
        "\n",
        "### **Vecinos más cercanos**\n",
        "\n",
        "\n"
      ],
      "metadata": {
        "id": "4qXqTY_sKwH2"
      }
    },
    {
      "cell_type": "code",
      "source": [
        "KNN = KNeighborsRegressor(n_neighbors = 20)\n",
        "KNN.fit(X_train, y1_train)      #Entreno el algoritmo\n",
        "y1_KNN = KNN.predict(X_test)    #Hago la predicción\n",
        "\n",
        "y1_testdat = pd.DataFrame(y1_test)\n",
        "Y1_test= y1_testdat.sort_index()\n",
        "\n",
        "plt.plot(Y1_test)\n",
        "plt.plot(y1_KNN)\n",
        "\n",
        "plt.xlim([0, 200])\n",
        "\n",
        "\n",
        "error1KNN = mean_squared_error(Y1_test, y1_KNN) #Error cuadratico medio\n",
        "\n",
        "score1KNN = r2_score(Y1_test, y1_KNN) #Puntaje, coeficiente de determinación\n",
        "\n",
        "\n",
        "\n",
        "\n",
        "print('Error cuadratico:')\n",
        "print(error1KNN)\n",
        "\n",
        "print('Puntaje:')\n",
        "print(score1KNN)"
      ],
      "metadata": {
        "colab": {
          "base_uri": "https://localhost:8080/",
          "height": 339
        },
        "id": "ybIpHay7o0CN",
        "outputId": "4b3c68e4-4848-4258-ef49-9627ba71ec14"
      },
      "execution_count": null,
      "outputs": [
        {
          "output_type": "stream",
          "name": "stdout",
          "text": [
            "Error cuadratico:\n",
            "117.10498729984376\n",
            "Puntaje:\n",
            "-0.03879210889784801\n"
          ]
        },
        {
          "output_type": "display_data",
          "data": {
            "text/plain": [
              "<Figure size 432x288 with 1 Axes>"
            ],
            "image/png": "[encoded data removed]"
          },
          "metadata": {
            "needs_background": "light"
          }
        }
      ]
    },
    {
      "cell_type": "markdown",
      "source": [
        "### **Regresión Lineal sin restricciones**"
      ],
      "metadata": {
        "id": "D5jWMSaAOU5U"
      }
    },
    {
      "cell_type": "code",
      "source": [
        "reglineal = linear_model.LinearRegression()\n",
        "reglineal.fit(X_train, y1_train)\n",
        "\n",
        "rl_score = reglineal.score(X_train, y1_train)\n",
        "rl_coef = reglineal.coef_\n",
        "rl_int = reglineal.intercept_\n",
        "\n",
        "y1_rl = reglineal.predict(X_test)\n",
        "\n",
        "print(rl_score)\n",
        "print(rl_coef)\n",
        "print(rl_int)\n",
        "\n",
        "plt.plot(Y1_test)\n",
        "plt.plot(y1_rl)\n",
        "plt.xlim([0, 200])\n",
        "\n",
        "\n",
        "\n",
        "error1rl = mean_squared_error(Y1_test, y1_rl) #Error cuadratico medio\n",
        "score1rl = r2_score(Y1_test, y1_rl) #Puntaje, coeficiente de determinación\n",
        "\n",
        "\n",
        "print('Error cuadratico:')\n",
        "print(error1rl)\n",
        "\n",
        "print('Puntaje:')\n",
        "print(score1rl)\n",
        "\n"
      ],
      "metadata": {
        "colab": {
          "base_uri": "https://localhost:8080/",
          "height": 721
        },
        "id": "cBUbvo1jFf5a",
        "outputId": "d5f14297-8f6a-424c-9720-3625b27e2872"
      },
      "execution_count": null,
      "outputs": [
        {
          "output_type": "stream",
          "name": "stdout",
          "text": [
            "-0.011002554740502157\n",
            "[ 2.68010796e+01  7.11339005e+12 -7.11339005e+12 -1.42267801e+13\n",
            "  4.82597351e-01  1.22163057e-01  2.20087670e+00  1.53005123e-02]\n",
            "-28.333116269867965\n"
          ]
        },
        {
          "output_type": "error",
          "ename": "ValueError",
          "evalue": "ignored",
          "traceback": [
            "\u001b[0;31m---------------------------------------------------------------------------\u001b[0m",
            "\u001b[0;31mValueError\u001b[0m                                Traceback (most recent call last)",
            "\u001b[0;32m<ipython-input-156-fc68fe6bee66>\u001b[0m in \u001b[0;36m<module>\u001b[0;34m\u001b[0m\n\u001b[1;32m     20\u001b[0m \u001b[0merror1rl\u001b[0m \u001b[0;34m=\u001b[0m \u001b[0mmean_squared_error\u001b[0m\u001b[0;34m(\u001b[0m\u001b[0mY1_test\u001b[0m\u001b[0;34m,\u001b[0m \u001b[0my1_rl\u001b[0m\u001b[0;34m)\u001b[0m \u001b[0;31m#Error cuadratico medio\u001b[0m\u001b[0;34m\u001b[0m\u001b[0;34m\u001b[0m\u001b[0m\n\u001b[1;32m     21\u001b[0m \u001b[0mscore1rl\u001b[0m \u001b[0;34m=\u001b[0m \u001b[0mr2_score\u001b[0m\u001b[0;34m(\u001b[0m\u001b[0mY1_test\u001b[0m\u001b[0;34m,\u001b[0m \u001b[0my1_rl\u001b[0m\u001b[0;34m)\u001b[0m \u001b[0;31m#Puntaje, coeficiente de determinación\u001b[0m\u001b[0;34m\u001b[0m\u001b[0;34m\u001b[0m\u001b[0m\n\u001b[0;32m---> 22\u001b[0;31m \u001b[0mexactitud\u001b[0m \u001b[0;34m=\u001b[0m \u001b[0maccuracy_score\u001b[0m\u001b[0;34m(\u001b[0m\u001b[0mY1_test\u001b[0m\u001b[0;34m,\u001b[0m \u001b[0my1_rl\u001b[0m\u001b[0;34m)\u001b[0m\u001b[0;34m\u001b[0m\u001b[0;34m\u001b[0m\u001b[0m\n\u001b[0m\u001b[1;32m     23\u001b[0m \u001b[0;34m\u001b[0m\u001b[0m\n\u001b[1;32m     24\u001b[0m \u001b[0mprint\u001b[0m\u001b[0;34m(\u001b[0m\u001b[0;34m'Error cuadratico:'\u001b[0m\u001b[0;34m)\u001b[0m\u001b[0;34m\u001b[0m\u001b[0;34m\u001b[0m\u001b[0m\n",
            "\u001b[0;32m/usr/local/lib/python3.7/dist-packages/sklearn/metrics/_classification.py\u001b[0m in \u001b[0;36maccuracy_score\u001b[0;34m(y_true, y_pred, normalize, sample_weight)\u001b[0m\n\u001b[1;32m    209\u001b[0m \u001b[0;34m\u001b[0m\u001b[0m\n\u001b[1;32m    210\u001b[0m     \u001b[0;31m# Compute accuracy for each possible representation\u001b[0m\u001b[0;34m\u001b[0m\u001b[0;34m\u001b[0m\u001b[0;34m\u001b[0m\u001b[0m\n\u001b[0;32m--> 211\u001b[0;31m     \u001b[0my_type\u001b[0m\u001b[0;34m,\u001b[0m \u001b[0my_true\u001b[0m\u001b[0;34m,\u001b[0m \u001b[0my_pred\u001b[0m \u001b[0;34m=\u001b[0m \u001b[0m_check_targets\u001b[0m\u001b[0;34m(\u001b[0m\u001b[0my_true\u001b[0m\u001b[0;34m,\u001b[0m \u001b[0my_pred\u001b[0m\u001b[0;34m)\u001b[0m\u001b[0;34m\u001b[0m\u001b[0;34m\u001b[0m\u001b[0m\n\u001b[0m\u001b[1;32m    212\u001b[0m     \u001b[0mcheck_consistent_length\u001b[0m\u001b[0;34m(\u001b[0m\u001b[0my_true\u001b[0m\u001b[0;34m,\u001b[0m \u001b[0my_pred\u001b[0m\u001b[0;34m,\u001b[0m \u001b[0msample_weight\u001b[0m\u001b[0;34m)\u001b[0m\u001b[0;34m\u001b[0m\u001b[0;34m\u001b[0m\u001b[0m\n\u001b[1;32m    213\u001b[0m     \u001b[0;32mif\u001b[0m \u001b[0my_type\u001b[0m\u001b[0;34m.\u001b[0m\u001b[0mstartswith\u001b[0m\u001b[0;34m(\u001b[0m\u001b[0;34m\"multilabel\"\u001b[0m\u001b[0;34m)\u001b[0m\u001b[0;34m:\u001b[0m\u001b[0;34m\u001b[0m\u001b[0;34m\u001b[0m\u001b[0m\n",
            "\u001b[0;32m/usr/local/lib/python3.7/dist-packages/sklearn/metrics/_classification.py\u001b[0m in \u001b[0;36m_check_targets\u001b[0;34m(y_true, y_pred)\u001b[0m\n\u001b[1;32m    102\u001b[0m     \u001b[0;31m# No metrics support \"multiclass-multioutput\" format\u001b[0m\u001b[0;34m\u001b[0m\u001b[0;34m\u001b[0m\u001b[0;34m\u001b[0m\u001b[0m\n\u001b[1;32m    103\u001b[0m     \u001b[0;32mif\u001b[0m \u001b[0my_type\u001b[0m \u001b[0;32mnot\u001b[0m \u001b[0;32min\u001b[0m \u001b[0;34m[\u001b[0m\u001b[0;34m\"binary\"\u001b[0m\u001b[0;34m,\u001b[0m \u001b[0;34m\"multiclass\"\u001b[0m\u001b[0;34m,\u001b[0m \u001b[0;34m\"multilabel-indicator\"\u001b[0m\u001b[0;34m]\u001b[0m\u001b[0;34m:\u001b[0m\u001b[0;34m\u001b[0m\u001b[0;34m\u001b[0m\u001b[0m\n\u001b[0;32m--> 104\u001b[0;31m         \u001b[0;32mraise\u001b[0m \u001b[0mValueError\u001b[0m\u001b[0;34m(\u001b[0m\u001b[0;34m\"{0} is not supported\"\u001b[0m\u001b[0;34m.\u001b[0m\u001b[0mformat\u001b[0m\u001b[0;34m(\u001b[0m\u001b[0my_type\u001b[0m\u001b[0;34m)\u001b[0m\u001b[0;34m)\u001b[0m\u001b[0;34m\u001b[0m\u001b[0;34m\u001b[0m\u001b[0m\n\u001b[0m\u001b[1;32m    105\u001b[0m \u001b[0;34m\u001b[0m\u001b[0m\n\u001b[1;32m    106\u001b[0m     \u001b[0;32mif\u001b[0m \u001b[0my_type\u001b[0m \u001b[0;32min\u001b[0m \u001b[0;34m[\u001b[0m\u001b[0;34m\"binary\"\u001b[0m\u001b[0;34m,\u001b[0m \u001b[0;34m\"multiclass\"\u001b[0m\u001b[0;34m]\u001b[0m\u001b[0;34m:\u001b[0m\u001b[0;34m\u001b[0m\u001b[0;34m\u001b[0m\u001b[0m\n",
            "\u001b[0;31mValueError\u001b[0m: continuous is not supported"
          ]
        },
        {
          "output_type": "display_data",
          "data": {
            "text/plain": [
              "<Figure size 432x288 with 1 Axes>"
            ],
            "image/png": "[encoded data removed]"
          },
          "metadata": {
            "needs_background": "light"
          }
        }
      ]
    },
    {
      "cell_type": "markdown",
      "source": [
        "## **Predicciones para la carga de enfriamiento $y_2$**\n",
        "\n",
        "### **Vecinos más cercanos**"
      ],
      "metadata": {
        "id": "2FjDehDlPYq6"
      }
    },
    {
      "cell_type": "code",
      "source": [
        "KNN = KNeighborsRegressor(n_neighbors = 3)\n",
        "KNN.fit(X_train, y2_train)      #Entreno el algoritmo\n",
        "y2_KNN = KNN.predict(X_test)    #Hago la predicción\n",
        "\n",
        "y2_testdat = pd.DataFrame(y2_test)\n",
        "Y2_test= y2_testdat.sort_index()\n",
        "\n",
        "plt.plot(Y2_test)\n",
        "plt.plot(y2_KNN)\n",
        "\n",
        "plt.xlim([0, 200])\n",
        "\n",
        "\n",
        "error2KNN = mean_squared_error(Y2_test, y2_KNN) #Error cuadratico medio\n",
        "\n",
        "score2KNN = r2_score(Y2_test, y2_KNN) #Puntaje, coeficiente de determinación\n",
        "\n",
        "\n",
        "\n",
        "\n",
        "print('Error cuadratico:')\n",
        "print(error2KNN)\n",
        "\n",
        "print('Puntaje:')\n",
        "print(score2KNN)"
      ],
      "metadata": {
        "id": "2ilQQaUeOoz7"
      },
      "execution_count": null,
      "outputs": []
    },
    {
      "cell_type": "markdown",
      "source": [
        "### **Regresión lineal sin restricciones**"
      ],
      "metadata": {
        "id": "ASJe_gv1Prgz"
      }
    },
    {
      "cell_type": "code",
      "source": [
        "reglineal = linear_model.LinearRegression()\n",
        "reglineal.fit(X_train, y2_train)\n",
        "\n",
        "r2l_score = reglineal.score(X_train, y2_train)\n",
        "r2l_coef = reglineal.coef_\n",
        "r2l_int = reglineal.intercept_\n",
        "\n",
        "y2_rl = reglineal.predict(X_test)\n",
        "\n",
        "print(r2l_score)\n",
        "print(r2l_coef)\n",
        "print(r2l_int)\n",
        "\n",
        "plt.plot(Y2_test)\n",
        "plt.plot(y2_rl)\n",
        "plt.xlim([0, 200])\n",
        "\n",
        "\n",
        "\n",
        "error2rl = mean_squared_error(Y2_test, y2_rl) #Error cuadratico medio\n",
        "score2rl = r2_score(Y2_test, y2_rl) #Puntaje, coeficiente de determinación\n",
        "\n",
        "print('Error cuadratico:')\n",
        "print(error2rl)\n",
        "\n",
        "print('Puntaje:')\n",
        "print(score2rl)"
      ],
      "metadata": {
        "id": "01Ku0rvIPw9f"
      },
      "execution_count": null,
      "outputs": []
    },
    {
      "cell_type": "markdown",
      "source": [
        "## **Clasificación**\n"
      ],
      "metadata": {
        "id": "p-F3CEl9gRW0"
      }
    },
    {
      "cell_type": "markdown",
      "source": [
        "Se ajusta el conjunto de datos para las variables $y_1$ y $y_2$, dado que se clasifican sus resultados de la siguiente manera:\n",
        "\n",
        "**Carga de calefacción($y_1$)**\n",
        "\n",
        "$[6-18]$ = 1 - Baja\n",
        "\\\n",
        "$(18- 31]$ = 2 - Media\n",
        "\\\n",
        "$(31-44]$ = 3 - Alta\n",
        "\n",
        "**Carga de enfriamiento($y_2$)**\n",
        "\n",
        "$[11-23]$ = 1 - Baja\n",
        "\\\n",
        "$(23- 35]$ = 2 - Media\n",
        "\\\n",
        "$(35-49]$ = 3 - Alta"
      ],
      "metadata": {
        "id": "SxlXi3DqQWxI"
      }
    },
    {
      "cell_type": "code",
      "source": [
        "dataset1 = pandas.read_excel(\"/content/drive/MyDrive/Colab Notebooks/copia_data_set.xlsx\")\n",
        "dataset1"
      ],
      "metadata": {
        "id": "PIaodfU4gwCX"
      },
      "execution_count": null,
      "outputs": []
    },
    {
      "cell_type": "code",
      "source": [
        "yc_1 = dataset1[['Y1']].plot(kind = 'hist') \n",
        "yc_2 = dataset1[['Y2']].plot(kind = 'hist')"
      ],
      "metadata": {
        "id": "FutqExT_hA02"
      },
      "execution_count": null,
      "outputs": []
    },
    {
      "cell_type": "markdown",
      "source": [
        "### **Separación de los datos de entreamiento y prueba**"
      ],
      "metadata": {
        "id": "Fhu6BE7xRtp2"
      }
    },
    {
      "cell_type": "code",
      "source": [
        "Xc=dataset1.drop(['Y1','Y2'],axis=1)\n",
        "yc1=dataset1['Y1']\n",
        "yc2=dataset1['Y2']\n",
        "\n",
        "Xc_train, Xc_test, yc1_train, yc1_test = train_test_split(Xc, yc1, test_size=0.25)\n",
        "Xc_train, Xc_test, yc2_train, yc2_test = train_test_split(Xc, yc2, test_size=0.25)\n"
      ],
      "metadata": {
        "id": "ltvp4HC2hQMA"
      },
      "execution_count": null,
      "outputs": []
    },
    {
      "cell_type": "code",
      "source": [
        "from sklearn.linear_model import LogisticRegression #Regresión logistica\n",
        "from sklearn.neighbors import KNeighborsClassifier #Vecinos más cercanos\n",
        "from sklearn.naive_bayes import GaussianNB # Clasificador Bayesiano\n",
        "\n",
        "from sklearn.metrics import confusion_matrix #Matriz de confusión\n",
        "from sklearn.metrics import accuracy_score #Exactitud\n",
        "from sklearn.metrics import mean_squared_error #Error cuadratico \n"
      ],
      "metadata": {
        "id": "wqIQ_c6WjAGG"
      },
      "execution_count": null,
      "outputs": []
    },
    {
      "cell_type": "markdown",
      "source": [
        "### **Regresión Logistica**"
      ],
      "metadata": {
        "id": "dJFO3mphrVXt"
      }
    },
    {
      "cell_type": "markdown",
      "source": [
        "### **Predicciones para la carga de calefacción $y_1$**"
      ],
      "metadata": {
        "id": "aDOEuOsfTSFM"
      }
    },
    {
      "cell_type": "code",
      "source": [
        "LogR = LogisticRegression(multi_class = 'multinomial')\n",
        "\n",
        "LogR.fit(Xc_train, yc1_train)\n",
        "yc1_LogR = LogR.predict(Xc_test)\n",
        "\n",
        "yc1_LogR\n",
        "\n",
        "\n",
        "matrizLR1 = confusion_matrix(yc1_test, yc1_LogR)\n",
        "\n",
        "exactitudLR1 = accuracy_score(yc1_test, yc1_LogR)\n",
        "\n",
        "errorLR1 = mean_squared_error(yc1_test, yc1_LogR)\n",
        "\n",
        "print('Matriz de confusión:')\n",
        "print(matrizLR1)\n",
        "\n",
        "print('Exactitud del modelo:')\n",
        "print(exactitudLR1)\n",
        "\n",
        "print('Error del modelo:')\n",
        "print(errorLR1)\n"
      ],
      "metadata": {
        "id": "t6aDt4REjN-e"
      },
      "execution_count": null,
      "outputs": []
    },
    {
      "cell_type": "markdown",
      "source": [
        "### **Predicciones para la carga de Enfriamiento $y_2$**"
      ],
      "metadata": {
        "id": "23u_1c7YTdgM"
      }
    },
    {
      "cell_type": "code",
      "source": [
        "LogR = LogisticRegression(multi_class = 'multinomial')\n",
        "\n",
        "LogR.fit(Xc_train, yc2_train)\n",
        "yc2_LogR = LogR.predict(Xc_test)\n",
        "\n",
        "yc2_LogR\n",
        "\n",
        "\n",
        "matrizLogR2 = confusion_matrix(yc2_test, yc2_LogR)\n",
        "\n",
        "exactitudLogR2 = accuracy_score(yc2_test, yc2_LogR)\n",
        "\n",
        "errorLogR2 = mean_squared_error(yc2_test, yc2_LogR)\n",
        "\n",
        "print('Matriz de confusión:')\n",
        "print(matrizLogR2)\n",
        "\n",
        "print('Exactitud del modelo:')\n",
        "print(exactitudLogR2)\n",
        "\n",
        "print('Error del modelo:')\n",
        "print(errorLogR2)"
      ],
      "metadata": {
        "id": "-KdvzRDcq6Yu"
      },
      "execution_count": null,
      "outputs": []
    },
    {
      "cell_type": "markdown",
      "source": [
        "### **Vecinos Cercanos**\n",
        "\n",
        "### **Predicciones para la carga de calefacción $y_1$**"
      ],
      "metadata": {
        "id": "WSBpV9T0rmHz"
      }
    },
    {
      "cell_type": "code",
      "source": [
        "\n",
        "KNN = KNeighborsClassifier(n_neighbors = 5)\n",
        "KNN.fit(Xc_train, yc1_train)\n",
        "yc1_KNN = KNN.predict(Xc_test)\n",
        "\n",
        "\n",
        "matrizKNN1 = confusion_matrix(yc1_test, yc1_KNN)\n",
        "\n",
        "exactitudKNN1 = accuracy_score(yc1_test, yc1_KNN)\n",
        "\n",
        "errorKNN1 = mean_squared_error(yc1_test, yc1_KNN)\n",
        "\n",
        "print('Matriz de confusión:')\n",
        "print(matrizKNN1)\n",
        "\n",
        "print('Exactitud del modelo:')\n",
        "print(exactitudKNN1)\n",
        "\n",
        "print('Error cuadrático:')\n",
        "print(errorKNN1)\n",
        "\n",
        "\n"
      ],
      "metadata": {
        "id": "A6xLbTvYsUFJ"
      },
      "execution_count": null,
      "outputs": []
    },
    {
      "cell_type": "markdown",
      "source": [
        "### **Predicciones para la carga de enfriamiento $y_2$**"
      ],
      "metadata": {
        "id": "hAUv7ht4T2sW"
      }
    },
    {
      "cell_type": "code",
      "source": [
        "\n",
        "KNN = KNeighborsClassifier(n_neighbors = 4)\n",
        "KNN.fit(Xc_train, yc2_train)\n",
        "yc2_KNN = KNN.predict(Xc_test)\n",
        "\n",
        "\n",
        "matrizKNN2 = confusion_matrix(yc2_test, yc2_KNN)\n",
        "\n",
        "exactitudKNN2 = accuracy_score(yc2_test, yc2_KNN)\n",
        "\n",
        "errorKNN2 = mean_squared_error(yc2_test, yc2_KNN)\n",
        "\n",
        "print('Matriz de confusión:')\n",
        "print(matrizKNN2)\n",
        "\n",
        "print('Exactitud del modelo:')\n",
        "print(exactitudKNN2)\n",
        "\n",
        "print('Error cuadrático:')\n",
        "print(errorKNN2)"
      ],
      "metadata": {
        "id": "xL_zM9E7tmEF"
      },
      "execution_count": null,
      "outputs": []
    },
    {
      "cell_type": "markdown",
      "source": [
        "### **Clasificador Bayesiano**\n",
        "\n",
        "### **Predicciones para la carga de calefacción $y_1$**"
      ],
      "metadata": {
        "id": "9QmoI7VsyBRX"
      }
    },
    {
      "cell_type": "code",
      "source": [
        "bayes = GaussianNB()\n",
        "\n",
        "bayes.fit(Xc_train, yc1_train)\n",
        "yc1_bayes = bayes.predict(Xc_test)\n",
        "\n",
        "yc1_bayes\n",
        "\n",
        "matriz_bayes1 = confusion_matrix(yc1_test, yc1_bayes)\n",
        "\n",
        "\n",
        "exactitud_bayes1 = accuracy_score(yc1_test, yc1_bayes)\n",
        "\n",
        "error_bayes1 = mean_squared_error(yc1_test, yc1_bayes)\n",
        "\n",
        "print('Matriz de confusión:')\n",
        "print(matriz_bayes1)\n",
        "\n",
        "print('Exactitud del modelo:')\n",
        "print(exactitud_bayes1)\n",
        "\n",
        "print('Error del modelo:')\n",
        "print(error_bayes1)"
      ],
      "metadata": {
        "id": "ygCIXah6yxSq"
      },
      "execution_count": null,
      "outputs": []
    },
    {
      "cell_type": "markdown",
      "source": [
        "### **Predicciones para la carga de enfriamiento $y_2$**"
      ],
      "metadata": {
        "id": "X-oaQGdgUMRY"
      }
    },
    {
      "cell_type": "code",
      "source": [
        "bayes = GaussianNB()\n",
        "\n",
        "bayes.fit(Xc_train, yc2_train)\n",
        "yc2_bayes = bayes.predict(Xc_test)\n",
        "\n",
        "yc2_bayes\n",
        "\n",
        "matriz_bayes2 = confusion_matrix(yc2_test, yc2_bayes)\n",
        "\n",
        "\n",
        "exactitud_bayes2 = accuracy_score(yc2_test, yc2_bayes)\n",
        "\n",
        "error_bayes2 = mean_squared_error(yc2_test, yc2_bayes)\n",
        "\n",
        "print('Matriz de confusión:')\n",
        "print(matriz_bayes2)\n",
        "\n",
        "print('Exactitud del modelo:')\n",
        "print(exactitud_bayes2)\n",
        "\n",
        "print('Error del modelo:')\n",
        "print(error_bayes2)"
      ],
      "metadata": {
        "id": "QjJK1J850DqM"
      },
      "execution_count": null,
      "outputs": []
    },
    {
      "cell_type": "markdown",
      "source": [
        "\n",
        "La estimación cuantitativa del rendimiento energético en edifcios residenciales utilizando herramientas de aprendizaje automático  son una forma de alivianar la demanda cada vez mayor de suministros de energía adicional de tal manera que se diseñen edificios más eficiente energeticamenten con mejores propiedades para la conservaciñon de la energía. \n",
        "\n",
        "Es así que con la estimación de la carga de calefacción y de enfriamiento permite determinar las especificaciones del equipo de calefacción para mantener las condiciones óptimas del aire."
      ],
      "metadata": {
        "id": "x7CktaOOUc0n"
      }
    }
  ]
}